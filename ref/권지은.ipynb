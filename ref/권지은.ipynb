{
 "cells": [
  {
   "cell_type": "markdown",
   "metadata": {},
   "source": [
    "### 1번문제"
   ]
  },
  {
   "cell_type": "code",
   "execution_count": 1,
   "metadata": {},
   "outputs": [
    {
     "name": "stdout",
     "output_type": "stream",
     "text": [
      "28.274328\n"
     ]
    }
   ],
   "source": [
    "# 1번문제\n",
    "\n",
    "import math\n",
    "\n",
    "r=float(input('반지름을 입력하세요 '))\n",
    "\n",
    "print(math.pow(r,2)*3.141592)\n"
   ]
  },
  {
   "cell_type": "code",
   "execution_count": 2,
   "metadata": {},
   "outputs": [
    {
     "data": {
      "text/plain": [
       "'Neptune'"
      ]
     },
     "execution_count": 2,
     "metadata": {},
     "output_type": "execute_result"
    }
   ],
   "source": [
    "# 2번문제\n",
    "\n",
    "dic={'수성':'Mercury', '금성':'Venus','지구':'Earth','화성':'Mars','목성':'Jupiter','토성':'Saturn','천왕성':'Uranus','해왕성':'Neptune'}\n",
    "name=input('찾을 행성의 한글이름을 적으세요')\n",
    "\n",
    "dic[name]"
   ]
  },
  {
   "cell_type": "code",
   "execution_count": 4,
   "metadata": {},
   "outputs": [
    {
     "name": "stdout",
     "output_type": "stream",
     "text": [
      "4\n"
     ]
    }
   ],
   "source": [
    "#3번문제\n",
    "\n",
    "text = input('문자열을 입력하세요')\n",
    "\n",
    "result = len(text.split())\n",
    "\n",
    "print(str(result))"
   ]
  },
  {
   "cell_type": "code",
   "execution_count": 5,
   "metadata": {},
   "outputs": [
    {
     "name": "stdout",
     "output_type": "stream",
     "text": [
      "8 7 6 5 1\n"
     ]
    }
   ],
   "source": [
    "# 4번문제\n",
    "\n",
    "name = input('수열을 입력하세요')\n",
    "reverse_name = ''\n",
    "for c in name: \n",
    "    reverse_name = c + reverse_name\n",
    "print(f'{reverse_name}')\n"
   ]
  },
  {
   "cell_type": "code",
   "execution_count": 6,
   "metadata": {},
   "outputs": [
    {
     "name": "stdout",
     "output_type": "stream",
     "text": [
      "8 16 24 32 40 48 56 64 72 "
     ]
    }
   ],
   "source": [
    "# 5번문제\n",
    "\n",
    "x = int(input(\"몇 단을 출력할까요? \"))\n",
    "for y in range(1,10):\n",
    "    print(f'{x*y}', end=' ')\n"
   ]
  }
 ],
 "metadata": {
  "interpreter": {
   "hash": "38ae1ba9371524da054e8e3fbefd778d16b5a8ac7937a3f395010f627bb73919"
  },
  "kernelspec": {
   "display_name": "Python 3.9.12 64-bit",
   "language": "python",
   "name": "python3"
  },
  "language_info": {
   "codemirror_mode": {
    "name": "ipython",
    "version": 3
   },
   "file_extension": ".py",
   "mimetype": "text/x-python",
   "name": "python",
   "nbconvert_exporter": "python",
   "pygments_lexer": "ipython3",
   "version": "3.9.12"
  },
  "orig_nbformat": 4
 },
 "nbformat": 4,
 "nbformat_minor": 2
}

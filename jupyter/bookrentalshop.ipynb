{
 "cells": [
  {
   "cell_type": "markdown",
   "metadata": {},
   "source": [
    "# 책대여점 on JupyterNotebook"
   ]
  },
  {
   "cell_type": "markdown",
   "metadata": {},
   "source": [
    "만약 cx_Oracle 모듈이 없으면 콘솔에서 설치할 것\n",
    "```shell\n",
    "> pip install cx_oracle\n",
    "```"
   ]
  },
  {
   "cell_type": "code",
   "execution_count": null,
   "metadata": {},
   "outputs": [],
   "source": [
    "# cx_Oracle 모듈 첨부\n",
    "import cx_Oracle as ora"
   ]
  },
  {
   "cell_type": "markdown",
   "metadata": {},
   "source": [
    "### DB연결함수\n",
    "사용법\n",
    "```python\n",
    "myconn()\n",
    "```"
   ]
  },
  {
   "cell_type": "code",
   "execution_count": 4,
   "metadata": {},
   "outputs": [],
   "source": [
    "def myconn():\n",
    "    dsn=ora.makedsn('localhost',1521,service_name='orcl')\n",
    "    conn=ora.connect(user='scott', password='tiger', dsn=dsn, encoding='utf-8')\n",
    "    return conn"
   ]
  },
  {
   "cell_type": "markdown",
   "metadata": {},
   "source": [
    "### DivTbl 전체 조회 함수\n",
    "사용법\n",
    "```python\n",
    "getAllDataFromDivtbl(conn)   ##conn은 연결객체\n",
    "```"
   ]
  },
  {
   "cell_type": "code",
   "execution_count": 6,
   "metadata": {},
   "outputs": [],
   "source": [
    "def getAllDataFromDivtbl(conn) -> None:\n",
    "    cur=conn.cursor()\n",
    "    query='select division,names from divtbl'\n",
    "\n",
    "    for row in cur.execute(query):\n",
    "        print(row)\n",
    "\n",
    "    cur.close()"
   ]
  },
  {
   "cell_type": "code",
   "execution_count": 8,
   "metadata": {},
   "outputs": [
    {
     "name": "stdout",
     "output_type": "stream",
     "text": [
      "접속\n",
      "('B001', '공포/스릴러')\n",
      "('B002', '로맨스')\n",
      "('B003', '무협')\n",
      "('B004', '전쟁/역사')\n",
      "('B005', '추리')\n",
      "('B006', 'SF/판타지')\n",
      "('I001', '프로그래밍')\n",
      "('I002', '자기계발')\n",
      "('I003', '에세이')\n"
     ]
    }
   ],
   "source": [
    "# DB 연결 실행해보기\n",
    "conn=myconn()\n",
    "print('접속')\n",
    "\n",
    "getAllDataFromDivtbl(conn)"
   ]
  },
  {
   "cell_type": "markdown",
   "metadata": {},
   "source": [
    "### 신규 장르 입력\n",
    "사용법\n",
    "```python\n",
    "tup = (division,names)\n",
    "setDataIntoDivtbl(conn, tup)\n",
    "```"
   ]
  },
  {
   "cell_type": "code",
   "execution_count": 27,
   "metadata": {},
   "outputs": [
    {
     "ename": "KeyboardInterrupt",
     "evalue": "Interrupted by user",
     "output_type": "error",
     "traceback": [
      "\u001b[1;31m---------------------------------------------------------------------------\u001b[0m",
      "\u001b[1;31mKeyboardInterrupt\u001b[0m                         Traceback (most recent call last)",
      "\u001b[1;32mc:\\STUDY\\StudyPython\\jupyter\\bookrentalshop.ipynb Cell 9'\u001b[0m in \u001b[0;36m<cell line: 8>\u001b[1;34m()\u001b[0m\n\u001b[0;32m      <a href='vscode-notebook-cell:/c%3A/STUDY/StudyPython/jupyter/bookrentalshop.ipynb#ch0000014?line=4'>5</a>\u001b[0m     conn\u001b[39m.\u001b[39mcommit()\n\u001b[0;32m      <a href='vscode-notebook-cell:/c%3A/STUDY/StudyPython/jupyter/bookrentalshop.ipynb#ch0000014?line=5'>6</a>\u001b[0m     cur\u001b[39m.\u001b[39mclose()\n\u001b[1;32m----> <a href='vscode-notebook-cell:/c%3A/STUDY/StudyPython/jupyter/bookrentalshop.ipynb#ch0000014?line=7'>8</a>\u001b[0m division,names\u001b[39m=\u001b[39m\u001b[39minput\u001b[39;49m(\u001b[39m'\u001b[39;49m\u001b[39m장르코드,장르명 입력(구분자 ,)\u001b[39;49m\u001b[39m'\u001b[39;49m)\u001b[39m.\u001b[39msplit(\u001b[39m'\u001b[39m\u001b[39m,\u001b[39m\u001b[39m'\u001b[39m)\n\u001b[0;32m      <a href='vscode-notebook-cell:/c%3A/STUDY/StudyPython/jupyter/bookrentalshop.ipynb#ch0000014?line=8'>9</a>\u001b[0m tup\u001b[39m=\u001b[39m(division\u001b[39m.\u001b[39mstrip(),names\u001b[39m.\u001b[39mstrip())\n\u001b[0;32m     <a href='vscode-notebook-cell:/c%3A/STUDY/StudyPython/jupyter/bookrentalshop.ipynb#ch0000014?line=9'>10</a>\u001b[0m setDataIntoDivtbl(conn,tup)\n",
      "File \u001b[1;32mc:\\DEV\\Langs\\Python\\Python39\\lib\\site-packages\\ipykernel\\kernelbase.py:1161\u001b[0m, in \u001b[0;36mKernel.raw_input\u001b[1;34m(self, prompt)\u001b[0m\n\u001b[0;32m   <a href='file:///c%3A/DEV/Langs/Python/Python39/lib/site-packages/ipykernel/kernelbase.py?line=1156'>1157</a>\u001b[0m \u001b[39mif\u001b[39;00m \u001b[39mnot\u001b[39;00m \u001b[39mself\u001b[39m\u001b[39m.\u001b[39m_allow_stdin:\n\u001b[0;32m   <a href='file:///c%3A/DEV/Langs/Python/Python39/lib/site-packages/ipykernel/kernelbase.py?line=1157'>1158</a>\u001b[0m     \u001b[39mraise\u001b[39;00m StdinNotImplementedError(\n\u001b[0;32m   <a href='file:///c%3A/DEV/Langs/Python/Python39/lib/site-packages/ipykernel/kernelbase.py?line=1158'>1159</a>\u001b[0m         \u001b[39m\"\u001b[39m\u001b[39mraw_input was called, but this frontend does not support input requests.\u001b[39m\u001b[39m\"\u001b[39m\n\u001b[0;32m   <a href='file:///c%3A/DEV/Langs/Python/Python39/lib/site-packages/ipykernel/kernelbase.py?line=1159'>1160</a>\u001b[0m     )\n\u001b[1;32m-> <a href='file:///c%3A/DEV/Langs/Python/Python39/lib/site-packages/ipykernel/kernelbase.py?line=1160'>1161</a>\u001b[0m \u001b[39mreturn\u001b[39;00m \u001b[39mself\u001b[39;49m\u001b[39m.\u001b[39;49m_input_request(\n\u001b[0;32m   <a href='file:///c%3A/DEV/Langs/Python/Python39/lib/site-packages/ipykernel/kernelbase.py?line=1161'>1162</a>\u001b[0m     \u001b[39mstr\u001b[39;49m(prompt),\n\u001b[0;32m   <a href='file:///c%3A/DEV/Langs/Python/Python39/lib/site-packages/ipykernel/kernelbase.py?line=1162'>1163</a>\u001b[0m     \u001b[39mself\u001b[39;49m\u001b[39m.\u001b[39;49m_parent_ident[\u001b[39m\"\u001b[39;49m\u001b[39mshell\u001b[39;49m\u001b[39m\"\u001b[39;49m],\n\u001b[0;32m   <a href='file:///c%3A/DEV/Langs/Python/Python39/lib/site-packages/ipykernel/kernelbase.py?line=1163'>1164</a>\u001b[0m     \u001b[39mself\u001b[39;49m\u001b[39m.\u001b[39;49mget_parent(\u001b[39m\"\u001b[39;49m\u001b[39mshell\u001b[39;49m\u001b[39m\"\u001b[39;49m),\n\u001b[0;32m   <a href='file:///c%3A/DEV/Langs/Python/Python39/lib/site-packages/ipykernel/kernelbase.py?line=1164'>1165</a>\u001b[0m     password\u001b[39m=\u001b[39;49m\u001b[39mFalse\u001b[39;49;00m,\n\u001b[0;32m   <a href='file:///c%3A/DEV/Langs/Python/Python39/lib/site-packages/ipykernel/kernelbase.py?line=1165'>1166</a>\u001b[0m )\n",
      "File \u001b[1;32mc:\\DEV\\Langs\\Python\\Python39\\lib\\site-packages\\ipykernel\\kernelbase.py:1205\u001b[0m, in \u001b[0;36mKernel._input_request\u001b[1;34m(self, prompt, ident, parent, password)\u001b[0m\n\u001b[0;32m   <a href='file:///c%3A/DEV/Langs/Python/Python39/lib/site-packages/ipykernel/kernelbase.py?line=1201'>1202</a>\u001b[0m             \u001b[39mbreak\u001b[39;00m\n\u001b[0;32m   <a href='file:///c%3A/DEV/Langs/Python/Python39/lib/site-packages/ipykernel/kernelbase.py?line=1202'>1203</a>\u001b[0m \u001b[39mexcept\u001b[39;00m \u001b[39mKeyboardInterrupt\u001b[39;00m:\n\u001b[0;32m   <a href='file:///c%3A/DEV/Langs/Python/Python39/lib/site-packages/ipykernel/kernelbase.py?line=1203'>1204</a>\u001b[0m     \u001b[39m# re-raise KeyboardInterrupt, to truncate traceback\u001b[39;00m\n\u001b[1;32m-> <a href='file:///c%3A/DEV/Langs/Python/Python39/lib/site-packages/ipykernel/kernelbase.py?line=1204'>1205</a>\u001b[0m     \u001b[39mraise\u001b[39;00m \u001b[39mKeyboardInterrupt\u001b[39;00m(\u001b[39m\"\u001b[39m\u001b[39mInterrupted by user\u001b[39m\u001b[39m\"\u001b[39m) \u001b[39mfrom\u001b[39;00m \u001b[39mNone\u001b[39m\n\u001b[0;32m   <a href='file:///c%3A/DEV/Langs/Python/Python39/lib/site-packages/ipykernel/kernelbase.py?line=1205'>1206</a>\u001b[0m \u001b[39mexcept\u001b[39;00m \u001b[39mException\u001b[39;00m:\n\u001b[0;32m   <a href='file:///c%3A/DEV/Langs/Python/Python39/lib/site-packages/ipykernel/kernelbase.py?line=1206'>1207</a>\u001b[0m     \u001b[39mself\u001b[39m\u001b[39m.\u001b[39mlog\u001b[39m.\u001b[39mwarning(\u001b[39m\"\u001b[39m\u001b[39mInvalid Message:\u001b[39m\u001b[39m\"\u001b[39m, exc_info\u001b[39m=\u001b[39m\u001b[39mTrue\u001b[39;00m)\n",
      "\u001b[1;31mKeyboardInterrupt\u001b[0m: Interrupted by user"
     ]
    }
   ],
   "source": [
    "def setDataIntoDivtbl(conn,tup):\n",
    "    cur=conn.cursor()\n",
    "    query='insert into divtbl values (:1,:2)'\n",
    "    cur.execute(query,tup)\n",
    "    conn.commit()\n",
    "    cur.close()\n",
    "\n",
    "division,names=input('장르코드,장르명 입력(구분자 ,)').split(',')\n",
    "tup=(division.strip(),names.strip())\n",
    "setDataIntoDivtbl(conn,tup)\n",
    "print('장르추가 성공')\n",
    "getAllDataFromDivtbl(conn)"
   ]
  },
  {
   "cell_type": "code",
   "execution_count": 37,
   "metadata": {},
   "outputs": [],
   "source": [
    "def getAllDataFromBookstbl(conn) -> None:\n",
    "    cur=conn.cursor()\n",
    "    query='select idx,author,division,names, '\\\n",
    "            ' TO_CHAR(releasedate, \\'YYYY-MM-DD\\') ' \\\n",
    "            ' from bookstbl ' \\\n",
    "           'order by idx ASC '\n",
    "        \n",
    "\n",
    "    for row in cur.execute(query):\n",
    "        print(row)\n",
    "\n",
    "    cur.close()"
   ]
  },
  {
   "cell_type": "code",
   "execution_count": 38,
   "metadata": {},
   "outputs": [
    {
     "name": "stdout",
     "output_type": "stream",
     "text": [
      "(1, '넬레 노이하우스', 'B001', '잔혹한 어머니의 날 1', '2019-10-07')\n",
      "(2, '넬레 노이하우스', 'B001', '잔혹한 어머니의 날 2', '2019-10-07')\n",
      "(3, '매뉴 라인하트', 'B006', '월드 오브 워크래프트 팝업북', '2019-10-21')\n",
      "(4, '묵향동후', 'B003', '마도조사 2', '2019-09-03')\n",
      "(5, '오코제키 다이', 'B005', '루팡의 딸', '2019-09-25')\n",
      "(6, '조엘 디케르', 'B001', '스테파니 메일러 실종사건', '2019-08-12')\n",
      "(7, '이지환', 'B002', '닥터 퀸 1-2세트', '2019-09-20')\n",
      "(8, '김수지', 'B002', '희란국 연가', '2019-11-01')\n",
      "(9, '알파타르트', 'B002', '재혼 황후 1', '2019-10-18')\n",
      "(10, '안나 토드', 'B002', '애프터 7', '2019-08-30')\n",
      "(11, '안나 토드', 'B002', '애프터 8', '2019-08-30')\n",
      "(12, '남혜인', 'B002', '아도니스 11', '2019-08-26')\n",
      "(13, '안드레아스 빙겔만', 'B001', '쉐어하우스', '2019-09-27')\n",
      "(14, '비프케 로렌츠', 'B001', '너도 곧 쉬게 될 거야', '2019-09-18')\n",
      "(15, '전건우', 'B001', '어위크', '2019-09-02')\n",
      "(16, '토머스 해리스', 'B005', '카리 모라', '2019-09-11')\n",
      "(17, '토머스 해리스', 'B005', '한니발', '2019-09-11')\n",
      "(18, '정준', 'B003', '화산전생 17', '2019-08-23')\n",
      "(19, '묵향동후', 'B003', '마도조사 1', '2019-07-30')\n",
      "(20, '용대운', 'B003', '군림천사 35', '2019-07-26')\n",
      "(21, '정준', 'B003', '화산전생 15', '2019-04-30')\n",
      "(22, '김석진', 'B003', '삼류무사 2부16', '2019-04-02')\n",
      "(23, '히가시노 게이고', 'B006', '기도의 막이 내릴 때', '2019-08-06')\n",
      "(24, '히가시노 게이고', 'B006', '악의', '2019-07-25')\n",
      "(25, '서철원', 'B004', '최후의 만찬', '2019-09-25')\n",
      "(26, '마이 셰발, 페르 발뢰', 'B004', '어느 끔찍한 남자', '2019-09-20')\n",
      "(27, '마이 셰발, 페르 발뢰', 'B004', '폴리스, 폴리스, 포타티스모스!', '2019-09-20')\n",
      "(28, '김진명', 'B004', '살수 1', '2019-09-16')\n",
      "(29, '김진명', 'B004', '살수 2', '2019-09-16')\n",
      "(30, '손정미', 'B004', '도공 서란', '2019-09-16')\n",
      "(31, '요안나', 'B002', '순수하지 않은 감각', '2019-10-02')\n",
      "(32, '노승아', 'B002', '오늘부터 천생연분 1', '2019-09-18')\n",
      "(33, '노승아', 'B002', '오늘부터 천생연분 2', '2019-09-18')\n",
      "(34, '김이랑', 'B002', '조선혼담공작소 꽃파당', '2019-09-06')\n",
      "(35, '전민석', 'B004', '감치', '2019-08-15')\n",
      "(36, '나관중', 'B004', '삼국지 세트', '2019-07-25')\n",
      "(37, '에리크 뷔야르', 'B004', '그날의 비밀', '2019-07-20')\n",
      "(38, '요 네스뵈', 'B004', '폴리스', '2019-07-08')\n",
      "(39, 'T. M. 로건', 'B005', '29초', '2019-09-18')\n",
      "(40, '토머스 해리스', 'B005', '양들의 침묵', '2019-09-11')\n",
      "(41, '송시우', 'B005', '대나무가 우는 섬', '2019-09-06')\n",
      "(42, 'A. J. 핀', 'B005', '우먼 인 윈도', '2019-09-03')\n",
      "(43, '이정명', 'B005', '밤의 양들 1', '2019-08-30')\n",
      "(44, '이정명', 'B005', '밤의 양들 2', '2019-08-30')\n",
      "(45, '정해연', 'B005', '내가 죽였다', '2019-08-21')\n",
      "(46, '정준', 'B003', '화산전생 16', '2019-07-19')\n",
      "(47, '무공진', 'B003', '화중매 상하 세트', '2019-07-15')\n",
      "(48, '촌부', 'B003', '천애협로 10', '2019-06-03')\n",
      "(49, '손선영', 'B003', '소암, 바람의 노래', '2019-05-17')\n",
      "(50, '전민희', 'B006', '룬의 아이들 블러디드 2', '2019-09-25')\n",
      "(51, '요나스 요나손', 'B006', '핵을 들고 도망친 101세 노인', '2019-09-25')\n",
      "(52, '닐 셔스터먼, 재러드 셔스터먼', 'B006', '드라이', '2019-09-20')\n",
      "(53, '스테파니 버지스', 'B006', '초콜릿 하트 드래곤', '2019-09-04')\n",
      "(54, '브누아 필리퐁', 'B001', '루거 총을 든 할머니', '2019-07-30')\n",
      "(55, '캐서린 스테드먼', 'B001', '썸씽 인 더 워터', '2019-07-24')\n",
      "(56, '에이미 몰로이', 'B001', '퍼펙트 마더', '2019-07-22')\n",
      "(57, '지건, 콕콕', 'B001', '잔혹동화', '2019-07-20')\n",
      "(58, '류츠신', 'B006', '삼체 3', '2019-09-25')\n",
      "(59, '히가시노 게이고', 'B006', '방과 후', '2019-07-10')\n"
     ]
    }
   ],
   "source": [
    "getAllDataFromBookstbl(conn)"
   ]
  },
  {
   "cell_type": "code",
   "execution_count": 40,
   "metadata": {},
   "outputs": [],
   "source": [
    "def getDataFromBookstbl(conn) -> None:\n",
    "    names=input('검색할 책이름을 입력하세요.')\n",
    "    cur=conn.cursor()\n",
    "    query= f'select idx,author,division,names, '\\\n",
    "          ' TO_CHAR(releasedate, \\'YYYY-MM-DD\\') ' \\\n",
    "          ' from bookstbl ' \\\n",
    "          f' where names LIKE \\'%{names}%\\' ' \\\n",
    "          'order by idx ASC '\n",
    "        \n",
    "\n",
    "    for row in cur.execute(query):\n",
    "        print(row)\n",
    "\n",
    "    cur.close()"
   ]
  },
  {
   "cell_type": "code",
   "execution_count": 41,
   "metadata": {},
   "outputs": [
    {
     "name": "stdout",
     "output_type": "stream",
     "text": [
      "(10, '안나 토드', 'B002', '애프터 7', '2019-08-30')\n",
      "(11, '안나 토드', 'B002', '애프터 8', '2019-08-30')\n"
     ]
    }
   ],
   "source": [
    "getDataFromBookstbl(conn)"
   ]
  },
  {
   "cell_type": "markdown",
   "metadata": {},
   "source": [
    "### 삭제 함수\n",
    "사용법\n",
    "```python\n",
    "delDataFromDivtbl(conn)\n",
    "```"
   ]
  },
  {
   "cell_type": "code",
   "execution_count": 49,
   "metadata": {},
   "outputs": [],
   "source": [
    "def delDataFromDivtbl(conn):\n",
    "    division=input('삭제할 코드명 입력(예: I004)')\n",
    "    cur=conn.cursor()\n",
    "    query='delete from divtbl where division= :1 '\n",
    "    tup=(division, )   #tuple 하나짜리는 왼쪽처럼 만들어야  조심조심스\n",
    "    cur.execute(query,tup)\n",
    "    conn.commit()\n",
    "    print('삭제 성공')\n",
    "    cur.close()"
   ]
  },
  {
   "cell_type": "code",
   "execution_count": 51,
   "metadata": {},
   "outputs": [
    {
     "name": "stdout",
     "output_type": "stream",
     "text": [
      "삭제 성공\n"
     ]
    }
   ],
   "source": [
    "delDataFromDivtbl(conn)"
   ]
  },
  {
   "cell_type": "code",
   "execution_count": null,
   "metadata": {},
   "outputs": [],
   "source": []
  }
 ],
 "metadata": {
  "interpreter": {
   "hash": "38ae1ba9371524da054e8e3fbefd778d16b5a8ac7937a3f395010f627bb73919"
  },
  "kernelspec": {
   "display_name": "Python 3.9.12 64-bit",
   "language": "python",
   "name": "python3"
  },
  "language_info": {
   "codemirror_mode": {
    "name": "ipython",
    "version": 3
   },
   "file_extension": ".py",
   "mimetype": "text/x-python",
   "name": "python",
   "nbconvert_exporter": "python",
   "pygments_lexer": "ipython3",
   "version": "3.9.12"
  },
  "orig_nbformat": 4
 },
 "nbformat": 4,
 "nbformat_minor": 2
}
